{
 "cells": [
  {
   "cell_type": "markdown",
   "metadata": {},
   "source": [
    "## Usage notes\n",
    "\n",
    "* Use python2 (have tested using 2.7).\n",
    "* Must be in folder (for example) ```/examples/Al``` and run the command ```$ python2.7 ../../src/pw.py al.scf.in``` or something similar.\n",
    "* Install scipy 0.17.0 (```$ pip install scipy==0.17.0```) or older to get around issue with deprecation (see issues).\n",
    "\n",
    "## Issues \n",
    "\n",
    "* Seems like there is a problem with the ```scipy.special.sph_jn``` being deprecated in the current version of scipy (1.0.0). The replacement function is called ```scipy.special.spherical_jn```, but the problem is more than cosmetic as the data-type returned is different. Seems like a good candidate for a future bug fix."
   ]
  },
  {
   "cell_type": "markdown",
   "metadata": {},
   "source": [
    "## Overview of functions called during runtime\n",
    "\n",
    "1. pw.py: scf is called (defined in scf.py)\n",
    "\n",
    "```\n",
    "    scf(cryst, params, tstart)\n",
    "\n",
    "```\n",
    "2. scf.py: Hamiltonian is initialized\n",
    "\n",
    "```\n",
    "    hinit(cryst, params, rank, size)\n",
    "```"
   ]
  },
  {
   "cell_type": "code",
   "execution_count": null,
   "metadata": {},
   "outputs": [],
   "source": []
  }
 ],
 "metadata": {
  "kernelspec": {
   "display_name": "Python 2",
   "language": "python",
   "name": "python2"
  },
  "language_info": {
   "codemirror_mode": {
    "name": "ipython",
    "version": 2
   },
   "file_extension": ".py",
   "mimetype": "text/x-python",
   "name": "python",
   "nbconvert_exporter": "python",
   "pygments_lexer": "ipython2",
   "version": "2.7.12"
  }
 },
 "nbformat": 4,
 "nbformat_minor": 2
}
